{
  "nbformat": 4,
  "nbformat_minor": 0,
  "metadata": {
    "colab": {
      "provenance": []
    },
    "kernelspec": {
      "name": "python3",
      "display_name": "Python 3"
    },
    "language_info": {
      "name": "python"
    }
  },
  "cells": [
    {
      "cell_type": "code",
      "execution_count": null,
      "metadata": {
        "id": "6BwMMSw8M4J0"
      },
      "outputs": [],
      "source": []
    },
    {
      "cell_type": "markdown",
      "source": [
        "**ASSIGNMENT 2-(Getting Started  With HTML)**\n",
        "\n",
        "**(QUESTION 1)** Write a simple program in HTML  that displays the heading \"HTML defines the content and structure of your website” on the web browser?\n",
        "\n",
        "**(ANSWER 1)**\n",
        "\n",
        "---"
      ],
      "metadata": {
        "id": "LQlDVtXsM5eH"
      }
    },
    {
      "cell_type": "code",
      "source": [
        "<!-- Answer 1-->\n",
        "\n",
        "<!DOCTYPE html>\n",
        "<html lang=\"en\">\n",
        "<head>\n",
        "    <meta charset=\"UTF-8\">\n",
        "    <meta name=\"viewport\" content=\"width=device-width, initial-scale=1.0\">\n",
        "    <title>HTML Example</title>\n",
        "</head>\n",
        "<body>\n",
        "    <h1>HTML - A skeleton Maker of website </h1>\n",
        "</body>\n",
        "</html>\n"
      ],
      "metadata": {
        "id": "Fs5vOLKUQMmg"
      },
      "execution_count": null,
      "outputs": []
    },
    {
      "cell_type": "markdown",
      "source": [
        "**(QUESTION 2)** Explain the purpose of comments in HTML and provide an example of how to use comments in an HTML\n",
        "document?\n",
        "\n",
        "**(ANSWER 2)** In HTML, comments are used to add notes or explanations within the code. These comments are not displayed in the web browser when the page is loaded but can help developers understand or document the code, making it easier to maintain.\n",
        "\n",
        "---- **Purpose of Comments in HTML**\n",
        "\n",
        "---\n",
        "\n",
        "(1) **Documentation:** To describe what a particular section of the code does.\n",
        "\n",
        "(2) **Code Organization:** Helps to organize and structure the code.\n",
        "\n",
        "(3) **Debugging:** Can temporarily disable parts of the code for testing without deleting them.\n",
        "\n",
        "(4) **Collaboration:** Useful when working with other developers to explain complex sections of code.\n",
        "\n",
        "**Syntax for HTML Comments:-** The syntax for HTML comments is\n",
        "\n",
        "---\n"
      ],
      "metadata": {
        "id": "QnBP5xIvQ_o3"
      }
    },
    {
      "cell_type": "code",
      "source": [
        "<!-- write comment whatever you want -->"
      ],
      "metadata": {
        "id": "NojchhI7Tq1E"
      },
      "execution_count": null,
      "outputs": []
    },
    {
      "cell_type": "markdown",
      "source": [
        "**Example with comments**\n",
        "\n",
        "---\n",
        "\n"
      ],
      "metadata": {
        "id": "V60fdubJT-MA"
      }
    },
    {
      "cell_type": "code",
      "source": [
        "<!DOCTYPE html>\n",
        "<html lang=\"en\">\n",
        "<head>\n",
        "    <meta charset=\"UTF-8\">\n",
        "    <meta name=\"viewport\" content=\"width=device-width, initial-scale=1.0\">\n",
        "    <title>HTML Comments Example</title>\n",
        "</head>\n",
        "<body>\n",
        "    <!-- This is the main heading of MY HTML -->\n",
        "    <h1>Welcome to HTML WORLD</h1>\n",
        "\n",
        "    <!-- The following paragraph introduces the content of MY FIRST WEBPAGE -->\n",
        "    <p>This website provides information about HTML and web development.</p>\n",
        "\n",
        "    <!--\n",
        "        This section is for future content that is currently under construction\n",
        "        <div class=\"under-construction\">\n",
        "            <p>Content will be added soon!</p>\n",
        "        </div>\n",
        "    -->\n",
        "</body>\n",
        "</html>\n"
      ],
      "metadata": {
        "id": "Uw_2f6MKULv3"
      },
      "execution_count": null,
      "outputs": []
    },
    {
      "cell_type": "markdown",
      "source": [
        "**(QUESTION 3)**  Write an HTML program that includes a heading, a paragraph of text, a horizontal line, and a line break.\n",
        "Arrange these elements to create a simple web page layout?\n",
        "\n",
        "**(ANSWER 3)**"
      ],
      "metadata": {
        "id": "z857NVZTVHyZ"
      }
    },
    {
      "cell_type": "code",
      "source": [
        "<!-- Answer 3-->\n",
        " <!DOCTYPE html>\n",
        "<html lang=\"en\">\n",
        "<head>\n",
        "    <meta charset=\"UTF-8\">\n",
        "    <meta name=\"viewport\" content=\"width=device-width, initial-scale=1.0\">\n",
        "    <title>Simple Web Page Layout</title>\n",
        "</head>\n",
        "<body>\n",
        "    <!-- Heading -->\n",
        "    <h1>Welcome to My Simple Web Page</h1>\n",
        "\n",
        "    <!-- Paragraph of text -->\n",
        "    <p>This is a paragraph of text that provides some information about the content of the web page.</p>\n",
        "\n",
        "    <!-- Horizontal line -->\n",
        "    <hr>\n",
        "\n",
        "    <!-- Line Break -->\n",
        "    <p>Here is some additional information after the line break.</p>\n",
        "    <p>This text is placed after a <b>line break</b>, which makes the content appear below.</p>\n",
        "</body>\n",
        "</html>"
      ],
      "metadata": {
        "id": "AUFcxgH4Wxng"
      },
      "execution_count": null,
      "outputs": []
    },
    {
      "cell_type": "markdown",
      "source": [
        "**Explanation:-**\n",
        "\n",
        "---\n",
        "<!--\n",
        "**<h1>** The main heading of the web page.\n",
        "**<p>** Paragraph tags are used for the text content.\n",
        "**<hr>** The horizontal line is created using the **<hr>** tag, which separates the content visually.\n",
        "**<br>** Though not explicitly used here, if you'd like a line break, you can include the **<br>** tag where you'd like to break the line.-->\n"
      ],
      "metadata": {
        "id": "gUNaMMPwXykJ"
      }
    },
    {
      "cell_type": "markdown",
      "source": [
        "QUESTION 4) Write a short note on Tag and element with an example?\n",
        "\n",
        "ANSWER 4)\n",
        "\n",
        "**Tag in HTML:**\n",
        "\n",
        "---\n",
        "In HTML, a tag is a fundamental part of the structure that defines an element. It is used to mark the beginning and end of an HTML element. Tags are enclosed in angle brackets (< >).\n",
        "\n",
        "**Opening Tag:-** This is the start of an HTML element and is written as <tagname>.\n",
        "\n",
        "**Closing Tag:-** This marks the end of an element and is written as </tagname>.\n",
        "The **forward slash (/)** distinguishes it from the opening tag.\n",
        "\n",
        "**Element in HTML:-**\n",
        "\n",
        "---\n",
        "An element in HTML is the complete structure that consists of an opening tag, content, and a closing tag. An element can contain other nested elements and attributes. In simpler terms, an element represents a specific part of the web page, like text, images, or links.\n",
        "\n",
        "**Basic Structure of an Element:-**\n",
        "\n",
        "---"
      ],
      "metadata": {
        "id": "8x9oijedZqmI"
      }
    },
    {
      "cell_type": "code",
      "source": [
        "<opening tag>Content</closing tag>"
      ],
      "metadata": {
        "id": "1iDXXY8RbNDC"
      },
      "execution_count": null,
      "outputs": []
    },
    {
      "cell_type": "markdown",
      "source": [
        "**Example**\n",
        "\n",
        "---"
      ],
      "metadata": {
        "id": "pxb_sEcAbOug"
      }
    },
    {
      "cell_type": "code",
      "source": [
        "<p>This is a paragraph.</p>"
      ],
      "metadata": {
        "id": "lvxwlW2CbaF9"
      },
      "execution_count": null,
      "outputs": []
    },
    {
      "cell_type": "markdown",
      "source": [
        "**Tag:** <p> (opening tag) and </p> (closing tag).\n",
        "\n",
        "**Element:** <p>This is a paragraph.</p> is the paragraph element. It includes the opening tag <p>, the content This is a paragraph., and the closing tag </p>\n"
      ],
      "metadata": {
        "id": "2xj07gcebg13"
      }
    },
    {
      "cell_type": "markdown",
      "source": [
        "**(QUESTION 5)** What is the DOCTYPE Declaration in HTML?\n",
        "\n",
        "**(ANSWER 5)**\n",
        "\n",
        "The DOCTYPE declaration is an instruction to the web browser that tells it which version of HTML the document is using. This declaration helps the browser render the page correctly according to the specified HTML standard.\n",
        "\n",
        "**Purpose:-**\n",
        "\n",
        "It ensures that the HTML document is processed in the correct mode (e.g., standards mode, quirks mode) by the browser.\n",
        "It tells the browser which version of HTML or XHTML the page is written in.\n",
        "Syntax: The DOCTYPE declaration is always placed at the very top of an HTML document before the <html> tag.\n",
        "\n",
        "**Example of DOCTYPE Declaration**\n",
        "\n",
        "---\n",
        "\n",
        "\n",
        "**(1) HTML5**"
      ],
      "metadata": {
        "id": "1QiOqg__cHVC"
      }
    },
    {
      "cell_type": "code",
      "source": [
        "<!DOCTYPE html>"
      ],
      "metadata": {
        "id": "dXS7Od_4dKu-"
      },
      "execution_count": null,
      "outputs": []
    },
    {
      "cell_type": "markdown",
      "source": [
        "This is the DOCTYPE declaration for HTML5, which is the latest version of HTML. It's simple and does not require a reference to a specific DTD (Document Type Definition), making it more flexible and easy to use."
      ],
      "metadata": {
        "id": "tSi9azWDdReL"
      }
    },
    {
      "cell_type": "markdown",
      "source": [
        "**Why DOCTYPE is Important**\n",
        "\n",
        "---\n",
        "\n",
        "(1) It defines the document type and version, ensuring that browsers interpret and render the page correctly.\n",
        "\n",
        "(2)It avoids quirks mode in browsers, where the rendering engine might behave inconsistently with modern standards.\n",
        "\n",
        "(3) It helps maintain compatibility across different browsers."
      ],
      "metadata": {
        "id": "soIspYXYdYoa"
      }
    }
  ]
}